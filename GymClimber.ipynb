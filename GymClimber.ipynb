{
  "nbformat": 4,
  "nbformat_minor": 0,
  "metadata": {
    "colab": {
      "name": "GymClimber.ipynb",
      "provenance": []
    },
    "kernelspec": {
      "name": "python3",
      "display_name": "Python 3"
    }
  },
  "cells": [
    {
      "cell_type": "markdown",
      "metadata": {
        "id": "CwuneUETuO_s",
        "colab_type": "text"
      },
      "source": [
        "# Installing Packages\n"
      ]
    },
    {
      "cell_type": "code",
      "metadata": {
        "id": "e1xDrEfnr2E9",
        "colab_type": "code",
        "colab": {
          "base_uri": "https://localhost:8080/",
          "height": 853
        },
        "outputId": "6489a509-b80f-452e-f7ae-f2c9f572e8c3"
      },
      "source": [
        "%%sh\n",
        "# gym\n",
        "pip install gym pyvirtualdisplay\n",
        "apt-get install -y xvfb python-opengl ffmpeg\n",
        "pip3 install box2d\n",
        "git clone https://github.com/katipber/hillclimber.git\n",
        "\n",
        "# dash\n",
        "pip install -q dash\n",
        "pip install -q dash_core_components\n",
        "pip install -q dash_html_components\n",
        "pip install -q dash_table\n",
        "pip install -q dash-bootstrap-components\n",
        "\n",
        "# get ngrok\n",
        "curl -O https://bin.equinox.io/c/4VmDzA7iaHb/ngrok-stable-linux-amd64.zip\n",
        "unzip ngrok-stable-linux-amd64.zip"
      ],
      "execution_count": 1,
      "outputs": [
        {
          "output_type": "stream",
          "text": [
            "Requirement already satisfied: gym in /usr/local/lib/python3.6/dist-packages (0.17.2)\n",
            "Collecting pyvirtualdisplay\n",
            "  Downloading https://files.pythonhosted.org/packages/d0/8a/643043cc70791367bee2d19eb20e00ed1a246ac48e5dbe57bbbcc8be40a9/PyVirtualDisplay-1.3.2-py2.py3-none-any.whl\n",
            "Requirement already satisfied: scipy in /usr/local/lib/python3.6/dist-packages (from gym) (1.4.1)\n",
            "Requirement already satisfied: cloudpickle<1.4.0,>=1.2.0 in /usr/local/lib/python3.6/dist-packages (from gym) (1.3.0)\n",
            "Requirement already satisfied: numpy>=1.10.4 in /usr/local/lib/python3.6/dist-packages (from gym) (1.18.5)\n",
            "Requirement already satisfied: pyglet<=1.5.0,>=1.4.0 in /usr/local/lib/python3.6/dist-packages (from gym) (1.5.0)\n",
            "Collecting EasyProcess\n",
            "  Downloading https://files.pythonhosted.org/packages/48/3c/75573613641c90c6d094059ac28adb748560d99bd27ee6f80cce398f404e/EasyProcess-0.3-py2.py3-none-any.whl\n",
            "Requirement already satisfied: future in /usr/local/lib/python3.6/dist-packages (from pyglet<=1.5.0,>=1.4.0->gym) (0.16.0)\n",
            "Installing collected packages: EasyProcess, pyvirtualdisplay\n",
            "Successfully installed EasyProcess-0.3 pyvirtualdisplay-1.3.2\n",
            "Reading package lists...\n",
            "Building dependency tree...\n",
            "Reading state information...\n",
            "ffmpeg is already the newest version (7:3.4.8-0ubuntu0.2).\n",
            "The following package was automatically installed and is no longer required:\n",
            "  libnvidia-common-440\n",
            "Use 'apt autoremove' to remove it.\n",
            "Suggested packages:\n",
            "  libgle3\n",
            "The following NEW packages will be installed:\n",
            "  python-opengl xvfb\n",
            "0 upgraded, 2 newly installed, 0 to remove and 35 not upgraded.\n",
            "Need to get 1,280 kB of archives.\n",
            "After this operation, 7,682 kB of additional disk space will be used.\n",
            "Get:1 http://archive.ubuntu.com/ubuntu bionic/universe amd64 python-opengl all 3.1.0+dfsg-1 [496 kB]\n",
            "Get:2 http://archive.ubuntu.com/ubuntu bionic-updates/universe amd64 xvfb amd64 2:1.19.6-1ubuntu4.4 [784 kB]\n",
            "Fetched 1,280 kB in 1s (1,332 kB/s)\n",
            "Selecting previously unselected package python-opengl.\r\n",
            "(Reading database ... \r(Reading database ... 5%\r(Reading database ... 10%\r(Reading database ... 15%\r(Reading database ... 20%\r(Reading database ... 25%\r(Reading database ... 30%\r(Reading database ... 35%\r(Reading database ... 40%\r(Reading database ... 45%\r(Reading database ... 50%\r(Reading database ... 55%\r(Reading database ... 60%\r(Reading database ... 65%\r(Reading database ... 70%\r(Reading database ... 75%\r(Reading database ... 80%\r(Reading database ... 85%\r(Reading database ... 90%\r(Reading database ... 95%\r(Reading database ... 100%\r(Reading database ... 144487 files and directories currently installed.)\r\n",
            "Preparing to unpack .../python-opengl_3.1.0+dfsg-1_all.deb ...\r\n",
            "Unpacking python-opengl (3.1.0+dfsg-1) ...\r\n",
            "Selecting previously unselected package xvfb.\r\n",
            "Preparing to unpack .../xvfb_2%3a1.19.6-1ubuntu4.4_amd64.deb ...\r\n",
            "Unpacking xvfb (2:1.19.6-1ubuntu4.4) ...\r\n",
            "Setting up python-opengl (3.1.0+dfsg-1) ...\r\n",
            "Setting up xvfb (2:1.19.6-1ubuntu4.4) ...\r\n",
            "Processing triggers for man-db (2.8.3-2ubuntu0.1) ...\r\n",
            "Collecting box2d\n",
            "  Downloading https://files.pythonhosted.org/packages/a9/0b/d48d42dd9e19ce83a3fb4eee074e785b6c6ea612a2244dc2ef69427d338b/Box2D-2.3.10-cp36-cp36m-manylinux1_x86_64.whl (1.3MB)\n",
            "Installing collected packages: box2d\n",
            "Successfully installed box2d-2.3.10\n",
            "Archive:  ngrok-stable-linux-amd64.zip\n",
            "  inflating: ngrok                   \n"
          ],
          "name": "stdout"
        },
        {
          "output_type": "stream",
          "text": [
            "  % Total    % Received % Xferd  Average Speed   Time    Time     Time  Current\n",
            "                                 Dload  Upload   Total   Spent    Left  Speed\n",
            "\r  0     0    0     0    0     0      0      0 --:--:-- --:--:-- --:--:--     0\r100 13.1M  100 13.1M    0     0  20.8M      0 --:--:-- --:--:-- --:--:-- 20.8M\n"
          ],
          "name": "stderr"
        }
      ]
    },
    {
      "cell_type": "code",
      "metadata": {
        "id": "jHQAglDZrWVG",
        "colab_type": "code",
        "colab": {}
      },
      "source": [
        "import sys\n",
        "sys.path.append('./hillclimber')\n",
        "\n",
        "import utils\n",
        "import pandas as pd\n",
        "from agent import HillClimber\n",
        "from IPython.display import clear_output"
      ],
      "execution_count": 2,
      "outputs": []
    },
    {
      "cell_type": "markdown",
      "metadata": {
        "id": "5tvisEQcwW3h",
        "colab_type": "text"
      },
      "source": [
        "# Selecting the Environment\n",
        "\n",
        "List available environments."
      ]
    },
    {
      "cell_type": "code",
      "metadata": {
        "id": "REVktDEeCF-P",
        "colab_type": "code",
        "colab": {
          "base_uri": "https://localhost:8080/",
          "height": 105
        },
        "outputId": "93e762e2-b24f-470c-d9c3-892857086c46"
      },
      "source": [
        "print(utils.env_list())"
      ],
      "execution_count": 3,
      "outputs": [
        {
          "output_type": "stream",
          "text": [
            "CODE       NAME                 LINK\n",
            "CP         CartPole-v1          https://gym.openai.com/envs/CartPole-v1/\n",
            "MC         MountainCar-v0       https://gym.openai.com/envs/MountainCar-v0/\n",
            "LL         LunarLander-v2       https://gym.openai.com/envs/LunarLander-v2/\n"
          ],
          "name": "stdout"
        }
      ]
    },
    {
      "cell_type": "markdown",
      "metadata": {
        "id": "K6-DbW3aIh0u",
        "colab_type": "text"
      },
      "source": [
        "\n",
        "\n",
        "* CODE: The code we will use to instantiate our environment.\n",
        "* NAME: Name of the environment.\n",
        "* LINK: Link to environment page for more details.\n",
        "\n",
        "Select your environment by using its code."
      ]
    },
    {
      "cell_type": "code",
      "metadata": {
        "id": "hayAz_EzKJre",
        "colab_type": "code",
        "colab": {}
      },
      "source": [
        "code = 'CP' # <-- Change this to your environment code.\n",
        "\n",
        "env = utils.get_env(code)"
      ],
      "execution_count": 4,
      "outputs": []
    },
    {
      "cell_type": "markdown",
      "metadata": {
        "id": "652QZwDCKv6q",
        "colab_type": "text"
      },
      "source": [
        "# Create an Agent\n"
      ]
    },
    {
      "cell_type": "code",
      "metadata": {
        "id": "yttM-HkPLkfB",
        "colab_type": "code",
        "colab": {}
      },
      "source": [
        "agent = HillClimber(env.model, file_name=code)"
      ],
      "execution_count": 5,
      "outputs": []
    },
    {
      "cell_type": "markdown",
      "metadata": {
        "id": "yojuvgM3LqIz",
        "colab_type": "text"
      },
      "source": [
        "# Watch Agent"
      ]
    },
    {
      "cell_type": "code",
      "metadata": {
        "id": "GnPQa7J5MfOF",
        "colab_type": "code",
        "colab": {
          "base_uri": "https://localhost:8080/",
          "height": 509
        },
        "outputId": "bc5a58a3-3a0a-402d-e721-ec233bdbfa55"
      },
      "source": [
        "agent.test = True\n",
        "env.record = True\n",
        "\n",
        "obs = env.reset()\n",
        "\n",
        "score = 0\n",
        "while True:\n",
        "    action = agent.eval(obs)\n",
        "    obs, reward, done, info = env.step(action)\n",
        "    score += reward\n",
        "    if done:\n",
        "        break\n",
        "\n",
        "agent.update_score(score)\n",
        "\n",
        "env.record = False\n",
        "env.play_video()"
      ],
      "execution_count": 6,
      "outputs": [
        {
          "output_type": "stream",
          "text": [
            "/usr/local/lib/python3.6/dist-packages/numpy/core/_methods.py:217: RuntimeWarning: Degrees of freedom <= 0 for slice\n",
            "  keepdims=keepdims)\n",
            "/usr/local/lib/python3.6/dist-packages/numpy/core/_methods.py:209: RuntimeWarning: invalid value encountered in double_scalars\n",
            "  ret = ret.dtype.type(ret / rcount)\n"
          ],
          "name": "stderr"
        },
        {
          "output_type": "display_data",
          "data": {
            "text/html": [
              "<video alt=\"videos/openaigym.video.0.96.video000000.mp4\" autoplay\n",
              "                      loop controls style=\"height: 400px;\">\n",
              "                      <source src=\"data:video/mp4;base64,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\" type=\"video/mp4\" />\n",
              "                 </video>"
            ],
            "text/plain": [
              "<IPython.core.display.HTML object>"
            ]
          },
          "metadata": {
            "tags": []
          }
        }
      ]
    },
    {
      "cell_type": "markdown",
      "metadata": {
        "id": "ykhShGZqP_n_",
        "colab_type": "text"
      },
      "source": [
        "# \"Train\" Agent"
      ]
    },
    {
      "cell_type": "code",
      "metadata": {
        "id": "x1JdB-KkQZrG",
        "colab_type": "code",
        "colab": {
          "base_uri": "https://localhost:8080/",
          "height": 255
        },
        "outputId": "979714e1-8017-4d47-c241-35bd37795c03"
      },
      "source": [
        "agent.test = False\n",
        "env.record = False\n",
        "\n",
        "df = pd.DataFrame(columns=agent.log_header)\n",
        "\n",
        "while True:\n",
        "    obs = env.reset()\n",
        "\n",
        "    score = 0\n",
        "    while True:\n",
        "        action = agent.eval(obs)\n",
        "        obs, reward, done, info = env.step(action)\n",
        "        score += reward\n",
        "        if done:\n",
        "            break\n",
        "\n",
        "    log = agent.update_score(score)\n",
        "    log.columns = agent.log_header\n",
        "    df = df.append(log, ignore_index=True)\n",
        "    df = df.tail(10)\n",
        "\n",
        "    clear_output(wait=True)\n",
        "    with pd.option_context('display.float_format', '{:12.2f}'.format):\n",
        "        print(df[['node_score', 'seed_mean', 'best_mean']].to_string(index=False))\n",
        "\n",
        "\n",
        "    if df.best_mean.iloc[-1] >= env.target:\n",
        "        print(f\"\\n\\nAgent's best mean score is {df.best_mean.iloc[-1]:.2f}\")\n",
        "        break"
      ],
      "execution_count": 7,
      "outputs": [
        {
          "output_type": "stream",
          "text": [
            "  node_score    seed_mean    best_mean\n",
            "      500.00       391.65       391.65\n",
            "      500.00       391.65       391.65\n",
            "      500.00       391.65       391.65\n",
            "      500.00       391.65       391.65\n",
            "      500.00       391.65       391.65\n",
            "      500.00       391.65       391.65\n",
            "      500.00       391.65       391.65\n",
            "      500.00       391.65       391.65\n",
            "      500.00       391.65       391.65\n",
            "      181.00       500.00       500.00\n",
            "\n",
            "\n",
            "Agent's best mean score is 500.00\n"
          ],
          "name": "stdout"
        }
      ]
    },
    {
      "cell_type": "markdown",
      "metadata": {
        "id": "bF05GzTvUIlh",
        "colab_type": "text"
      },
      "source": [
        "# Test Agent"
      ]
    },
    {
      "cell_type": "code",
      "metadata": {
        "id": "hyedIEIDEZtS",
        "colab_type": "code",
        "colab": {
          "base_uri": "https://localhost:8080/",
          "height": 289
        },
        "outputId": "81b21ce5-4797-4e46-e166-07fed732ecba"
      },
      "source": [
        "agent.test = True\n",
        "env.record = False\n",
        "\n",
        "df = pd.DataFrame(columns=agent.log_header)\n",
        "\n",
        "for _ in range(100):\n",
        "    obs = env.reset()\n",
        "\n",
        "    score = 0\n",
        "    while True:\n",
        "        action = agent.eval(obs)\n",
        "        obs, reward, done, info = env.step(action)\n",
        "        score += reward\n",
        "        if done:\n",
        "            break\n",
        "\n",
        "    log = agent.update_score(score)\n",
        "    log.columns = agent.log_header\n",
        "    df = df.append(log, ignore_index=True)\n",
        "    df = df.tail(10)\n",
        "\n",
        "    clear_output(wait=True)\n",
        "    with pd.option_context('display.float_format', '{:12.2f}'.format):\n",
        "        print(df[['node_score', 'seed_mean', 'best_mean']].to_string(index=False))\n",
        "\n",
        "\n",
        "\n",
        "print(f\"\\n\\nAgent's mean score in the last 100 games is {agent.best.mean:.2f}\")\n",
        "print('\\Tip: You can go back and watch your agent again to see the improvement.')"
      ],
      "execution_count": 8,
      "outputs": [
        {
          "output_type": "stream",
          "text": [
            "  node_score    seed_mean    best_mean\n",
            "      500.00       479.81       479.81\n",
            "      500.00       479.81       479.81\n",
            "      500.00       479.81       479.81\n",
            "      500.00       479.81       479.81\n",
            "      500.00       479.81       479.81\n",
            "      500.00       479.81       479.81\n",
            "      500.00       479.81       479.81\n",
            "      500.00       479.81       479.81\n",
            "      500.00       479.81       479.81\n",
            "      500.00       479.81       479.81\n",
            "\n",
            "\n",
            "Agent's mean score in the last 100 games is 479.81\n",
            "\n",
            "Hint: You can go back and watch your agent again to see the improvement.\n"
          ],
          "name": "stdout"
        }
      ]
    },
    {
      "cell_type": "markdown",
      "metadata": {
        "id": "if9iiJ2BnIBU",
        "colab_type": "text"
      },
      "source": [
        "# Save / Load Model"
      ]
    },
    {
      "cell_type": "code",
      "metadata": {
        "id": "rPGhNkERnKaz",
        "colab_type": "code",
        "colab": {}
      },
      "source": [
        "agent.save_model('my_model')\n",
        "\n",
        "# agent.load_model('my_model')"
      ],
      "execution_count": 9,
      "outputs": []
    },
    {
      "cell_type": "markdown",
      "metadata": {
        "id": "lYOafUmRU3ke",
        "colab_type": "text"
      },
      "source": [
        "# Visualization\n",
        "\n",
        "Since ngrok provides limited connection with the free plan, visualization is not working very well here. It is better to run 'graph.py' locally.\n",
        "\n",
        "Use the link ending with 'ngrok.io' after executing next 2 cells."
      ]
    },
    {
      "cell_type": "code",
      "metadata": {
        "id": "VhUeT8dOsN8k",
        "colab_type": "code",
        "colab": {
          "base_uri": "https://localhost:8080/",
          "height": 34
        },
        "outputId": "a808ea75-d2aa-4830-e17e-494d01212c9f"
      },
      "source": [
        "# launch ngrok\n",
        "get_ipython().system_raw('./ngrok http 8050 &')\n",
        "\n",
        "# get url with ngrok\n",
        "! curl -s http://localhost:4040/api/tunnels | python3 -c \\\n",
        "    \"import sys, json; print(json.load(sys.stdin)['tunnels'][0]['public_url'])\""
      ],
      "execution_count": 10,
      "outputs": [
        {
          "output_type": "stream",
          "text": [
            "http://cceaabf44f9c.ngrok.io\n"
          ],
          "name": "stdout"
        }
      ]
    },
    {
      "cell_type": "code",
      "metadata": {
        "id": "anXbHYx-sO88",
        "colab_type": "code",
        "colab": {
          "base_uri": "https://localhost:8080/",
          "height": 207
        },
        "outputId": "23630377-090c-4370-f982-6c28b6bbb036"
      },
      "source": [
        "! python graph.py"
      ],
      "execution_count": 11,
      "outputs": [
        {
          "output_type": "stream",
          "text": [
            "Dash is running on http://127.0.0.1:8050/\n",
            "\n",
            " Warning: This is a development server. Do not use app.run_server\n",
            " in production, use a production WSGI server like gunicorn instead.\n",
            "\n",
            " * Serving Flask app \"graph\" (lazy loading)\n",
            " * Environment: production\n",
            "\u001b[31m   WARNING: This is a development server. Do not use it in a production deployment.\u001b[0m\n",
            "\u001b[2m   Use a production WSGI server instead.\u001b[0m\n",
            " * Debug mode: on\n"
          ],
          "name": "stdout"
        }
      ]
    },
    {
      "cell_type": "markdown",
      "metadata": {
        "id": "jhF0BWZ8-E23",
        "colab_type": "text"
      },
      "source": [
        "<!--  -->"
      ]
    }
  ]
}