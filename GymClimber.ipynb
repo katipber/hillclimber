{
  "nbformat": 4,
  "nbformat_minor": 0,
  "metadata": {
    "colab": {
      "name": "GymClimber.ipynb",
      "provenance": [],
      "collapsed_sections": []
    },
    "kernelspec": {
      "name": "python3",
      "display_name": "Python 3"
    }
  },
  "cells": [
    {
      "cell_type": "markdown",
      "metadata": {
        "id": "CwuneUETuO_s",
        "colab_type": "text"
      },
      "source": [
        "# Installing Packages\n"
      ]
    },
    {
      "cell_type": "code",
      "metadata": {
        "id": "e1xDrEfnr2E9",
        "colab_type": "code",
        "colab": {}
      },
      "source": [
        "%%sh\n",
        "# gym\n",
        "pip install gym pyvirtualdisplay\n",
        "apt-get install -y xvfb python-opengl ffmpeg\n",
        "pip3 install box2d\n",
        "git clone https://github.com/katipber/hillclimber.git\n",
        "\n",
        "# dash\n",
        "pip install -q dash\n",
        "pip install -q dash_core_components\n",
        "pip install -q dash_html_components\n",
        "pip install -q dash_table\n",
        "pip install -q dash-bootstrap-components\n",
        "\n",
        "# get ngrok\n",
        "curl -O https://bin.equinox.io/c/4VmDzA7iaHb/ngrok-stable-linux-amd64.zip\n",
        "unzip ngrok-stable-linux-amd64.zip"
      ],
      "execution_count": null,
      "outputs": []
    },
    {
      "cell_type": "code",
      "metadata": {
        "id": "jHQAglDZrWVG",
        "colab_type": "code",
        "colab": {}
      },
      "source": [
        "import sys\n",
        "sys.path.append('./hillclimber')\n",
        "\n",
        "import utils\n",
        "import pandas as pd\n",
        "from agent import HillClimber\n",
        "from IPython.display import clear_output"
      ],
      "execution_count": null,
      "outputs": []
    },
    {
      "cell_type": "markdown",
      "metadata": {
        "id": "5tvisEQcwW3h",
        "colab_type": "text"
      },
      "source": [
        "# Selecting the Environment\n",
        "\n",
        "List available environments."
      ]
    },
    {
      "cell_type": "code",
      "metadata": {
        "id": "REVktDEeCF-P",
        "colab_type": "code",
        "colab": {}
      },
      "source": [
        "print(utils.env_list())"
      ],
      "execution_count": null,
      "outputs": []
    },
    {
      "cell_type": "markdown",
      "metadata": {
        "id": "K6-DbW3aIh0u",
        "colab_type": "text"
      },
      "source": [
        "\n",
        "\n",
        "* CODE: The code we will use to instantiate our environment.\n",
        "* NAME: Name of the environment.\n",
        "* LINK: Link to environment page for more details.\n",
        "\n",
        "Select your environment by using its code."
      ]
    },
    {
      "cell_type": "code",
      "metadata": {
        "id": "hayAz_EzKJre",
        "colab_type": "code",
        "colab": {}
      },
      "source": [
        "code = 'CP' # <-- Change this to your environment code.\n",
        "\n",
        "env = utils.get_env(code)"
      ],
      "execution_count": null,
      "outputs": []
    },
    {
      "cell_type": "markdown",
      "metadata": {
        "id": "652QZwDCKv6q",
        "colab_type": "text"
      },
      "source": [
        "# Create an Agent\n"
      ]
    },
    {
      "cell_type": "code",
      "metadata": {
        "id": "yttM-HkPLkfB",
        "colab_type": "code",
        "colab": {}
      },
      "source": [
        "agent = HillClimber(env.model, file_name=code)"
      ],
      "execution_count": null,
      "outputs": []
    },
    {
      "cell_type": "markdown",
      "metadata": {
        "id": "yojuvgM3LqIz",
        "colab_type": "text"
      },
      "source": [
        "# Watch Agent"
      ]
    },
    {
      "cell_type": "code",
      "metadata": {
        "id": "GnPQa7J5MfOF",
        "colab_type": "code",
        "colab": {}
      },
      "source": [
        "agent.test = True\n",
        "env.record = True\n",
        "\n",
        "obs = env.reset()\n",
        "\n",
        "score = 0\n",
        "while True:\n",
        "    action = agent.eval(obs)\n",
        "    obs, reward, done, info = env.step(action)\n",
        "    score += reward\n",
        "    if done:\n",
        "        break\n",
        "\n",
        "agent.update_score(score)\n",
        "\n",
        "env.record = False\n",
        "env.play_video()"
      ],
      "execution_count": null,
      "outputs": []
    },
    {
      "cell_type": "markdown",
      "metadata": {
        "id": "ykhShGZqP_n_",
        "colab_type": "text"
      },
      "source": [
        "# \"Train\" Agent"
      ]
    },
    {
      "cell_type": "code",
      "metadata": {
        "id": "x1JdB-KkQZrG",
        "colab_type": "code",
        "colab": {}
      },
      "source": [
        "agent.test = False\n",
        "env.record = False\n",
        "\n",
        "df = pd.DataFrame(columns=agent.log_header)\n",
        "\n",
        "while True:\n",
        "    obs = env.reset()\n",
        "\n",
        "    score = 0\n",
        "    while True:\n",
        "        action = agent.eval(obs)\n",
        "        obs, reward, done, info = env.step(action)\n",
        "        score += reward\n",
        "        if done:\n",
        "            break\n",
        "\n",
        "    log = agent.update_score(score)\n",
        "    log.columns = agent.log_header\n",
        "    df = df.append(log, ignore_index=True)\n",
        "    df = df.tail(10)\n",
        "\n",
        "    clear_output(wait=True)\n",
        "    with pd.option_context('display.float_format', '{:12.2f}'.format):\n",
        "        print(df[['node_score', 'seed_mean', 'best_mean']].to_string(index=False))\n",
        "\n",
        "\n",
        "    if df.best_mean.iloc[-1] >= env.target:\n",
        "        print(f\"\\n\\nAgent's best mean score is {df.best_mean.iloc[-1]:.2f}\")\n",
        "        break"
      ],
      "execution_count": null,
      "outputs": []
    },
    {
      "cell_type": "markdown",
      "metadata": {
        "id": "bF05GzTvUIlh",
        "colab_type": "text"
      },
      "source": [
        "# Test Agent"
      ]
    },
    {
      "cell_type": "code",
      "metadata": {
        "id": "hyedIEIDEZtS",
        "colab_type": "code",
        "colab": {}
      },
      "source": [
        "agent.test = True\n",
        "env.record = False\n",
        "\n",
        "df = pd.DataFrame(columns=agent.log_header)\n",
        "\n",
        "for _ in range(100):\n",
        "    obs = env.reset()\n",
        "\n",
        "    score = 0\n",
        "    while True:\n",
        "        action = agent.eval(obs)\n",
        "        obs, reward, done, info = env.step(action)\n",
        "        score += reward\n",
        "        if done:\n",
        "            break\n",
        "\n",
        "    log = agent.update_score(score)\n",
        "    log.columns = agent.log_header\n",
        "    df = df.append(log, ignore_index=True)\n",
        "    df = df.tail(10)\n",
        "\n",
        "    clear_output(wait=True)\n",
        "    with pd.option_context('display.float_format', '{:12.2f}'.format):\n",
        "        print(df[['node_score', 'seed_mean', 'best_mean']].to_string(index=False))\n",
        "\n",
        "\n",
        "\n",
        "print(f\"\\n\\nAgent's mean score in the last 100 games is {agent.best.mean:.2f}\")\n",
        "print('Tip: You can go back and watch your agent again to see the improvement.')"
      ],
      "execution_count": null,
      "outputs": []
    },
    {
      "cell_type": "markdown",
      "metadata": {
        "id": "if9iiJ2BnIBU",
        "colab_type": "text"
      },
      "source": [
        "# Save / Load Model"
      ]
    },
    {
      "cell_type": "code",
      "metadata": {
        "id": "rPGhNkERnKaz",
        "colab_type": "code",
        "colab": {}
      },
      "source": [
        "agent.save_model('my_model')\n",
        "\n",
        "# agent.load_model('my_model')"
      ],
      "execution_count": null,
      "outputs": []
    },
    {
      "cell_type": "markdown",
      "metadata": {
        "id": "lYOafUmRU3ke",
        "colab_type": "text"
      },
      "source": [
        "# Visualization\n",
        "\n",
        "Since ngrok provides limited connection with the free plan, visualization is not working very well here. It is better to run 'graph.py' locally.\n",
        "\n",
        "Use the link ending with 'ngrok.io' after executing next 2 cells."
      ]
    },
    {
      "cell_type": "code",
      "metadata": {
        "id": "VhUeT8dOsN8k",
        "colab_type": "code",
        "colab": {}
      },
      "source": [
        "# launch ngrok\n",
        "get_ipython().system_raw('./ngrok http 8050 &')\n",
        "\n",
        "# get url with ngrok\n",
        "! curl -s http://localhost:4040/api/tunnels | python3 -c \\\n",
        "    \"import sys, json; print(json.load(sys.stdin)['tunnels'][0]['public_url'])\""
      ],
      "execution_count": null,
      "outputs": []
    },
    {
      "cell_type": "code",
      "metadata": {
        "id": "anXbHYx-sO88",
        "colab_type": "code",
        "colab": {}
      },
      "source": [
        "! python hillclimber/graph.py"
      ],
      "execution_count": null,
      "outputs": []
    },
    {
      "cell_type": "markdown",
      "metadata": {
        "id": "jhF0BWZ8-E23",
        "colab_type": "text"
      },
      "source": [
        "<!--  -->"
      ]
    }
  ]
}
